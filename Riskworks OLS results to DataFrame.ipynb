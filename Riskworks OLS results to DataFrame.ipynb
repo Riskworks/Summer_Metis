{
 "cells": [
  {
   "cell_type": "markdown",
   "metadata": {},
   "source": [
    "# Ordinary Least Squares \n",
    "## Saving results of the regression summary to a Pandas DataFrame in order to save the results to a database."
   ]
  },
  {
   "cell_type": "code",
   "execution_count": 3,
   "metadata": {},
   "outputs": [],
   "source": [
    "import statsmodels.api as sm\n",
    "import numpy as np\n",
    "import pandas as pd"
   ]
  },
  {
   "cell_type": "code",
   "execution_count": 37,
   "metadata": {},
   "outputs": [
    {
     "data": {
      "text/plain": [
       "'c:\\\\Users\\\\moais\\\\OneDrive\\\\Documents\\\\2019\\\\Backups\\\\Presentations\\\\5 Data'"
      ]
     },
     "execution_count": 37,
     "metadata": {},
     "output_type": "execute_result"
    }
   ],
   "source": [
    "import os\n",
    "os.getcwd()\n",
    "os.chdir(r\"c:\\\\Users\\\\moais\\\\OneDrive\\\\Documents\\\\2019\\\\Backups\\\\Presentations\\\\5 Data\")\n",
    "os.getcwd()"
   ]
  },
  {
   "cell_type": "code",
   "execution_count": 38,
   "metadata": {},
   "outputs": [
    {
     "data": {
      "text/plain": [
       "['NFLSeason2018Week5Data.csv']"
      ]
     },
     "execution_count": 38,
     "metadata": {},
     "output_type": "execute_result"
    }
   ],
   "source": [
    "os.listdir()"
   ]
  },
  {
   "cell_type": "code",
   "execution_count": 40,
   "metadata": {},
   "outputs": [],
   "source": [
    "# Read data from file 'filename.csv' \n",
    "# (in the same directory that your python process is based)\n",
    "# Control delimiters, rows, column names with read_csv (see later) \n",
    "df1 = pd.read_csv(\"NFLSeason2018Week5Data.csv\") "
   ]
  },
  {
   "cell_type": "code",
   "execution_count": 42,
   "metadata": {},
   "outputs": [],
   "source": [
    "# Set a target variable \n",
    "target = pd.DataFrame(df1.TeamScore, columns=[\"TeamScore\"])"
   ]
  },
  {
   "cell_type": "code",
   "execution_count": 43,
   "metadata": {},
   "outputs": [],
   "source": [
    "# set the multi-variants df1 data frame\n",
    "x = df1[[\"Off_Pass\", \"Off_Run\",\"Sacky\",\"Int\",\"Fuml\", \"otherpoints\"]]\n",
    "y = target[\"TeamScore\"]\n",
    "x = sm.add_constant(x) "
   ]
  },
  {
   "cell_type": "code",
   "execution_count": 44,
   "metadata": {},
   "outputs": [],
   "source": [
    "model       = sm.OLS(y, x).fit()\n",
    "predictions = model.predict(x)\n",
    "\n",
    "modelcoeff = model.summary()"
   ]
  },
  {
   "cell_type": "code",
   "execution_count": 45,
   "metadata": {},
   "outputs": [
    {
     "data": {
      "text/html": [
       "<table class=\"simpletable\">\n",
       "<caption>OLS Regression Results</caption>\n",
       "<tr>\n",
       "  <th>Dep. Variable:</th>        <td>TeamScore</td>    <th>  R-squared:         </th> <td>   0.563</td>\n",
       "</tr>\n",
       "<tr>\n",
       "  <th>Model:</th>                   <td>OLS</td>       <th>  Adj. R-squared:    </th> <td>   0.545</td>\n",
       "</tr>\n",
       "<tr>\n",
       "  <th>Method:</th>             <td>Least Squares</td>  <th>  F-statistic:       </th> <td>   31.94</td>\n",
       "</tr>\n",
       "<tr>\n",
       "  <th>Date:</th>             <td>Sat, 22 Jun 2019</td> <th>  Prob (F-statistic):</th> <td>1.65e-24</td>\n",
       "</tr>\n",
       "<tr>\n",
       "  <th>Time:</th>                 <td>10:28:33</td>     <th>  Log-Likelihood:    </th> <td> -515.81</td>\n",
       "</tr>\n",
       "<tr>\n",
       "  <th>No. Observations:</th>      <td>   156</td>      <th>  AIC:               </th> <td>   1046.</td>\n",
       "</tr>\n",
       "<tr>\n",
       "  <th>Df Residuals:</th>          <td>   149</td>      <th>  BIC:               </th> <td>   1067.</td>\n",
       "</tr>\n",
       "<tr>\n",
       "  <th>Df Model:</th>              <td>     6</td>      <th>                     </th>     <td> </td>   \n",
       "</tr>\n",
       "<tr>\n",
       "  <th>Covariance Type:</th>      <td>nonrobust</td>    <th>                     </th>     <td> </td>   \n",
       "</tr>\n",
       "</table>\n",
       "<table class=\"simpletable\">\n",
       "<tr>\n",
       "       <td></td>          <th>coef</th>     <th>std err</th>      <th>t</th>      <th>P>|t|</th>  <th>[0.025</th>    <th>0.975]</th>  \n",
       "</tr>\n",
       "<tr>\n",
       "  <th>const</th>       <td>   -3.2222</td> <td>    3.411</td> <td>   -0.945</td> <td> 0.346</td> <td>   -9.963</td> <td>    3.519</td>\n",
       "</tr>\n",
       "<tr>\n",
       "  <th>Off_Pass</th>    <td>    3.0806</td> <td>    0.282</td> <td>   10.942</td> <td> 0.000</td> <td>    2.524</td> <td>    3.637</td>\n",
       "</tr>\n",
       "<tr>\n",
       "  <th>Off_Run</th>     <td>    1.2770</td> <td>    0.455</td> <td>    2.808</td> <td> 0.006</td> <td>    0.379</td> <td>    2.175</td>\n",
       "</tr>\n",
       "<tr>\n",
       "  <th>Sacky</th>       <td>    0.0595</td> <td>    0.052</td> <td>    1.149</td> <td> 0.252</td> <td>   -0.043</td> <td>    0.162</td>\n",
       "</tr>\n",
       "<tr>\n",
       "  <th>Int</th>         <td>   -1.3200</td> <td>    0.547</td> <td>   -2.415</td> <td> 0.017</td> <td>   -2.400</td> <td>   -0.240</td>\n",
       "</tr>\n",
       "<tr>\n",
       "  <th>Fuml</th>        <td>   -0.3538</td> <td>    0.778</td> <td>   -0.455</td> <td> 0.650</td> <td>   -1.891</td> <td>    1.184</td>\n",
       "</tr>\n",
       "<tr>\n",
       "  <th>otherpoints</th> <td>    0.4703</td> <td>    0.118</td> <td>    3.996</td> <td> 0.000</td> <td>    0.238</td> <td>    0.703</td>\n",
       "</tr>\n",
       "</table>\n",
       "<table class=\"simpletable\">\n",
       "<tr>\n",
       "  <th>Omnibus:</th>       <td>10.942</td> <th>  Durbin-Watson:     </th> <td>   2.110</td>\n",
       "</tr>\n",
       "<tr>\n",
       "  <th>Prob(Omnibus):</th> <td> 0.004</td> <th>  Jarque-Bera (JB):  </th> <td>  11.259</td>\n",
       "</tr>\n",
       "<tr>\n",
       "  <th>Skew:</th>          <td> 0.584</td> <th>  Prob(JB):          </th> <td> 0.00359</td>\n",
       "</tr>\n",
       "<tr>\n",
       "  <th>Kurtosis:</th>      <td> 3.608</td> <th>  Cond. No.          </th> <td>    140.</td>\n",
       "</tr>\n",
       "</table><br/><br/>Warnings:<br/>[1] Standard Errors assume that the covariance matrix of the errors is correctly specified."
      ],
      "text/plain": [
       "<class 'statsmodels.iolib.summary.Summary'>\n",
       "\"\"\"\n",
       "                            OLS Regression Results                            \n",
       "==============================================================================\n",
       "Dep. Variable:              TeamScore   R-squared:                       0.563\n",
       "Model:                            OLS   Adj. R-squared:                  0.545\n",
       "Method:                 Least Squares   F-statistic:                     31.94\n",
       "Date:                Sat, 22 Jun 2019   Prob (F-statistic):           1.65e-24\n",
       "Time:                        10:28:33   Log-Likelihood:                -515.81\n",
       "No. Observations:                 156   AIC:                             1046.\n",
       "Df Residuals:                     149   BIC:                             1067.\n",
       "Df Model:                           6                                         \n",
       "Covariance Type:            nonrobust                                         \n",
       "===============================================================================\n",
       "                  coef    std err          t      P>|t|      [0.025      0.975]\n",
       "-------------------------------------------------------------------------------\n",
       "const          -3.2222      3.411     -0.945      0.346      -9.963       3.519\n",
       "Off_Pass        3.0806      0.282     10.942      0.000       2.524       3.637\n",
       "Off_Run         1.2770      0.455      2.808      0.006       0.379       2.175\n",
       "Sacky           0.0595      0.052      1.149      0.252      -0.043       0.162\n",
       "Int            -1.3200      0.547     -2.415      0.017      -2.400      -0.240\n",
       "Fuml           -0.3538      0.778     -0.455      0.650      -1.891       1.184\n",
       "otherpoints     0.4703      0.118      3.996      0.000       0.238       0.703\n",
       "==============================================================================\n",
       "Omnibus:                       10.942   Durbin-Watson:                   2.110\n",
       "Prob(Omnibus):                  0.004   Jarque-Bera (JB):               11.259\n",
       "Skew:                           0.584   Prob(JB):                      0.00359\n",
       "Kurtosis:                       3.608   Cond. No.                         140.\n",
       "==============================================================================\n",
       "\n",
       "Warnings:\n",
       "[1] Standard Errors assume that the covariance matrix of the errors is correctly specified.\n",
       "\"\"\""
      ]
     },
     "execution_count": 45,
     "metadata": {},
     "output_type": "execute_result"
    }
   ],
   "source": [
    "modelcoeff"
   ]
  },
  {
   "cell_type": "code",
   "execution_count": 47,
   "metadata": {},
   "outputs": [],
   "source": [
    "results_as_html = modelcoeff.tables[1].as_html()\n",
    "Modelresults = pd.read_html(results_as_html, header=0, index_col=0)[0]\n",
    "Tparm = pd.DataFrame(Modelresults)\n"
   ]
  },
  {
   "cell_type": "code",
   "execution_count": 49,
   "metadata": {},
   "outputs": [
    {
     "name": "stdout",
     "output_type": "stream",
     "text": [
      "               coef  std err       t  P>|t|  [0.025  0.975]\n",
      "iv                                                         \n",
      "const       -3.2222    3.411  -0.945  0.346  -9.963   3.519\n",
      "Off_Pass     3.0806    0.282  10.942  0.000   2.524   3.637\n",
      "Off_Run      1.2770    0.455   2.808  0.006   0.379   2.175\n",
      "Sacky        0.0595    0.052   1.149  0.252  -0.043   0.162\n",
      "Int         -1.3200    0.547  -2.415  0.017  -2.400  -0.240\n",
      "Fuml        -0.3538    0.778  -0.455  0.650  -1.891   1.184\n",
      "otherpoints  0.4703    0.118   3.996  0.000   0.238   0.703\n"
     ]
    }
   ],
   "source": [
    "Tparm.index.name = \"iv\"\n",
    "\n",
    "print(Tparm)"
   ]
  },
  {
   "cell_type": "code",
   "execution_count": 52,
   "metadata": {},
   "outputs": [
    {
     "name": "stdout",
     "output_type": "stream",
     "text": [
      "<bound method NDFrame.describe of                coef  std err       t  P>|t|  [0.025  0.975]\n",
      "iv                                                         \n",
      "const       -3.2222    3.411  -0.945  0.346  -9.963   3.519\n",
      "Off_Pass     3.0806    0.282  10.942  0.000   2.524   3.637\n",
      "Off_Run      1.2770    0.455   2.808  0.006   0.379   2.175\n",
      "Sacky        0.0595    0.052   1.149  0.252  -0.043   0.162\n",
      "Int         -1.3200    0.547  -2.415  0.017  -2.400  -0.240\n",
      "Fuml        -0.3538    0.778  -0.455  0.650  -1.891   1.184\n",
      "otherpoints  0.4703    0.118   3.996  0.000   0.238   0.703>\n"
     ]
    }
   ],
   "source": [
    "print(Tparm.describe)"
   ]
  },
  {
   "cell_type": "code",
   "execution_count": null,
   "metadata": {},
   "outputs": [],
   "source": []
  }
 ],
 "metadata": {
  "kernelspec": {
   "display_name": "Python 3",
   "language": "python",
   "name": "python3"
  },
  "language_info": {
   "codemirror_mode": {
    "name": "ipython",
    "version": 3
   },
   "file_extension": ".py",
   "mimetype": "text/x-python",
   "name": "python",
   "nbconvert_exporter": "python",
   "pygments_lexer": "ipython3",
   "version": "3.6.5"
  }
 },
 "nbformat": 4,
 "nbformat_minor": 2
}
